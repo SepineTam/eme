{
 "cells": [
  {
   "cell_type": "code",
   "id": "initial_id",
   "metadata": {
    "collapsed": true,
    "ExecuteTime": {
     "end_time": "2024-12-07T05:03:27.726797Z",
     "start_time": "2024-12-07T05:03:27.721910Z"
    }
   },
   "source": [
    "import pandas as pd\n",
    "import numpy as np"
   ],
   "outputs": [],
   "execution_count": 13
  },
  {
   "metadata": {
    "ExecuteTime": {
     "end_time": "2024-12-07T05:03:27.790848Z",
     "start_time": "2024-12-07T05:03:27.728675Z"
    }
   },
   "cell_type": "code",
   "source": "df = pd.read_excel(\"./exchange.xlsx\")\n",
   "id": "cae98d1f73d82c4e",
   "outputs": [],
   "execution_count": 14
  },
  {
   "metadata": {
    "ExecuteTime": {
     "end_time": "2024-12-07T05:03:27.793149Z",
     "start_time": "2024-12-07T05:03:27.791563Z"
    }
   },
   "cell_type": "code",
   "source": "# !pip install openpyxl",
   "id": "d744aab8258d8160",
   "outputs": [],
   "execution_count": 15
  },
  {
   "metadata": {
    "ExecuteTime": {
     "end_time": "2024-12-07T05:03:27.798249Z",
     "start_time": "2024-12-07T05:03:27.793693Z"
    }
   },
   "cell_type": "code",
   "source": "df",
   "id": "39119c863d3cf050",
   "outputs": [
    {
     "data": {
      "text/plain": [
       "             时间    value\n",
       "0    2024-12-06  7.28390\n",
       "1    2024-12-05  7.26345\n",
       "2    2024-12-04  7.27730\n",
       "3    2024-12-03  7.29980\n",
       "4    2024-12-02  7.28655\n",
       "...         ...      ...\n",
       "2323 2016-01-08  6.68320\n",
       "2324 2016-01-07  6.68290\n",
       "2325 2016-01-06  6.69590\n",
       "2326 2016-01-05  6.64490\n",
       "2327 2016-01-04  6.62910\n",
       "\n",
       "[2328 rows x 2 columns]"
      ],
      "text/html": [
       "<div>\n",
       "<style scoped>\n",
       "    .dataframe tbody tr th:only-of-type {\n",
       "        vertical-align: middle;\n",
       "    }\n",
       "\n",
       "    .dataframe tbody tr th {\n",
       "        vertical-align: top;\n",
       "    }\n",
       "\n",
       "    .dataframe thead th {\n",
       "        text-align: right;\n",
       "    }\n",
       "</style>\n",
       "<table border=\"1\" class=\"dataframe\">\n",
       "  <thead>\n",
       "    <tr style=\"text-align: right;\">\n",
       "      <th></th>\n",
       "      <th>时间</th>\n",
       "      <th>value</th>\n",
       "    </tr>\n",
       "  </thead>\n",
       "  <tbody>\n",
       "    <tr>\n",
       "      <th>0</th>\n",
       "      <td>2024-12-06</td>\n",
       "      <td>7.28390</td>\n",
       "    </tr>\n",
       "    <tr>\n",
       "      <th>1</th>\n",
       "      <td>2024-12-05</td>\n",
       "      <td>7.26345</td>\n",
       "    </tr>\n",
       "    <tr>\n",
       "      <th>2</th>\n",
       "      <td>2024-12-04</td>\n",
       "      <td>7.27730</td>\n",
       "    </tr>\n",
       "    <tr>\n",
       "      <th>3</th>\n",
       "      <td>2024-12-03</td>\n",
       "      <td>7.29980</td>\n",
       "    </tr>\n",
       "    <tr>\n",
       "      <th>4</th>\n",
       "      <td>2024-12-02</td>\n",
       "      <td>7.28655</td>\n",
       "    </tr>\n",
       "    <tr>\n",
       "      <th>...</th>\n",
       "      <td>...</td>\n",
       "      <td>...</td>\n",
       "    </tr>\n",
       "    <tr>\n",
       "      <th>2323</th>\n",
       "      <td>2016-01-08</td>\n",
       "      <td>6.68320</td>\n",
       "    </tr>\n",
       "    <tr>\n",
       "      <th>2324</th>\n",
       "      <td>2016-01-07</td>\n",
       "      <td>6.68290</td>\n",
       "    </tr>\n",
       "    <tr>\n",
       "      <th>2325</th>\n",
       "      <td>2016-01-06</td>\n",
       "      <td>6.69590</td>\n",
       "    </tr>\n",
       "    <tr>\n",
       "      <th>2326</th>\n",
       "      <td>2016-01-05</td>\n",
       "      <td>6.64490</td>\n",
       "    </tr>\n",
       "    <tr>\n",
       "      <th>2327</th>\n",
       "      <td>2016-01-04</td>\n",
       "      <td>6.62910</td>\n",
       "    </tr>\n",
       "  </tbody>\n",
       "</table>\n",
       "<p>2328 rows × 2 columns</p>\n",
       "</div>"
      ]
     },
     "execution_count": 16,
     "metadata": {},
     "output_type": "execute_result"
    }
   ],
   "execution_count": 16
  },
  {
   "metadata": {
    "ExecuteTime": {
     "end_time": "2024-12-07T05:03:27.809533Z",
     "start_time": "2024-12-07T05:03:27.799278Z"
    }
   },
   "cell_type": "code",
   "source": [
    "# 确保时间列为 datetime 格式\n",
    "df['时间'] = pd.to_datetime(df['时间'])\n",
    "\n",
    "# 提取年月并格式化为 MM-YYYY\n",
    "df['年月'] = df['时间'].dt.strftime('%m-%Y')\n",
    "\n",
    "# 按年月分组，计算汇率平均值\n",
    "monthly_avg = df.groupby('年月')['value'].mean().reset_index()"
   ],
   "id": "4437d4b265e68a01",
   "outputs": [],
   "execution_count": 17
  },
  {
   "metadata": {
    "ExecuteTime": {
     "end_time": "2024-12-07T05:03:27.812799Z",
     "start_time": "2024-12-07T05:03:27.810157Z"
    }
   },
   "cell_type": "code",
   "source": "monthly_avg.to_csv(\"./exc_m.csv\", encoding='utf-8', index=False)",
   "id": "810845538352d4b5",
   "outputs": [],
   "execution_count": 18
  },
  {
   "metadata": {
    "ExecuteTime": {
     "end_time": "2024-12-07T05:03:34.240784Z",
     "start_time": "2024-12-07T05:03:34.236947Z"
    }
   },
   "cell_type": "code",
   "source": "monthly_avg",
   "id": "e1dcd7dd0a28c292",
   "outputs": [
    {
     "data": {
      "text/plain": [
       "          年月     value\n",
       "0    01-2016  6.616205\n",
       "1    01-2017  6.858514\n",
       "2    01-2018  6.429696\n",
       "3    01-2019  6.796980\n",
       "4    01-2020  6.931983\n",
       "..       ...       ...\n",
       "103  12-2020  6.525617\n",
       "104  12-2021  6.373813\n",
       "105  12-2022  6.979909\n",
       "106  12-2023  7.150171\n",
       "107  12-2024  7.282200\n",
       "\n",
       "[108 rows x 2 columns]"
      ],
      "text/html": [
       "<div>\n",
       "<style scoped>\n",
       "    .dataframe tbody tr th:only-of-type {\n",
       "        vertical-align: middle;\n",
       "    }\n",
       "\n",
       "    .dataframe tbody tr th {\n",
       "        vertical-align: top;\n",
       "    }\n",
       "\n",
       "    .dataframe thead th {\n",
       "        text-align: right;\n",
       "    }\n",
       "</style>\n",
       "<table border=\"1\" class=\"dataframe\">\n",
       "  <thead>\n",
       "    <tr style=\"text-align: right;\">\n",
       "      <th></th>\n",
       "      <th>年月</th>\n",
       "      <th>value</th>\n",
       "    </tr>\n",
       "  </thead>\n",
       "  <tbody>\n",
       "    <tr>\n",
       "      <th>0</th>\n",
       "      <td>01-2016</td>\n",
       "      <td>6.616205</td>\n",
       "    </tr>\n",
       "    <tr>\n",
       "      <th>1</th>\n",
       "      <td>01-2017</td>\n",
       "      <td>6.858514</td>\n",
       "    </tr>\n",
       "    <tr>\n",
       "      <th>2</th>\n",
       "      <td>01-2018</td>\n",
       "      <td>6.429696</td>\n",
       "    </tr>\n",
       "    <tr>\n",
       "      <th>3</th>\n",
       "      <td>01-2019</td>\n",
       "      <td>6.796980</td>\n",
       "    </tr>\n",
       "    <tr>\n",
       "      <th>4</th>\n",
       "      <td>01-2020</td>\n",
       "      <td>6.931983</td>\n",
       "    </tr>\n",
       "    <tr>\n",
       "      <th>...</th>\n",
       "      <td>...</td>\n",
       "      <td>...</td>\n",
       "    </tr>\n",
       "    <tr>\n",
       "      <th>103</th>\n",
       "      <td>12-2020</td>\n",
       "      <td>6.525617</td>\n",
       "    </tr>\n",
       "    <tr>\n",
       "      <th>104</th>\n",
       "      <td>12-2021</td>\n",
       "      <td>6.373813</td>\n",
       "    </tr>\n",
       "    <tr>\n",
       "      <th>105</th>\n",
       "      <td>12-2022</td>\n",
       "      <td>6.979909</td>\n",
       "    </tr>\n",
       "    <tr>\n",
       "      <th>106</th>\n",
       "      <td>12-2023</td>\n",
       "      <td>7.150171</td>\n",
       "    </tr>\n",
       "    <tr>\n",
       "      <th>107</th>\n",
       "      <td>12-2024</td>\n",
       "      <td>7.282200</td>\n",
       "    </tr>\n",
       "  </tbody>\n",
       "</table>\n",
       "<p>108 rows × 2 columns</p>\n",
       "</div>"
      ]
     },
     "execution_count": 19,
     "metadata": {},
     "output_type": "execute_result"
    }
   ],
   "execution_count": 19
  },
  {
   "metadata": {},
   "cell_type": "code",
   "outputs": [],
   "execution_count": null,
   "source": "",
   "id": "d0c32e87b92827bb"
  }
 ],
 "metadata": {
  "kernelspec": {
   "display_name": "Python 3",
   "language": "python",
   "name": "python3"
  },
  "language_info": {
   "codemirror_mode": {
    "name": "ipython",
    "version": 2
   },
   "file_extension": ".py",
   "mimetype": "text/x-python",
   "name": "python",
   "nbconvert_exporter": "python",
   "pygments_lexer": "ipython2",
   "version": "2.7.6"
  }
 },
 "nbformat": 4,
 "nbformat_minor": 5
}
