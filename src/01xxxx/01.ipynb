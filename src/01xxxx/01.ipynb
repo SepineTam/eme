{
 "cells": [
  {
   "cell_type": "code",
   "id": "initial_id",
   "metadata": {
    "collapsed": true,
    "ExecuteTime": {
     "end_time": "2024-12-06T13:24:35.167140Z",
     "start_time": "2024-12-06T13:24:34.866666Z"
    }
   },
   "source": [
    "import pandas as pd\n",
    "import numpy as np\n",
    "import re"
   ],
   "outputs": [],
   "execution_count": 1
  },
  {
   "metadata": {
    "ExecuteTime": {
     "end_time": "2024-12-06T13:24:35.174057Z",
     "start_time": "2024-12-06T13:24:35.169097Z"
    }
   },
   "cell_type": "code",
   "source": [
    "def process_code(code):\n",
    "    try:\n",
    "        return str(code)[:8]\n",
    "    except Exception:\n",
    "        return None\n",
    "\n",
    "\n",
    "def sord(df):\n",
    "    new_df = pd.DataFrame(columns=['time', 'code', 'IM_PQ', 'IM_Q', 'EX_PQ', 'EX_Q'])\n",
    "\n",
    "    pd.DataFrame(columns=['time', 'code', 'IM_PQ', 'IM_Q', 'EX_PQ', 'EX_Q'])\n",
    "    \n",
    "    # 处理进口金额\n",
    "    import_amount = df[df['指标'] == '进口金额（美元）']\n",
    "    import_amount = import_amount[['时间', '商品', '数值']].rename(columns={'时间': 'time', '商品': 'code', '数值': 'IM_PQ'})\n",
    "    \n",
    "    # 处理进口量（仅第一数量）\n",
    "    import_quantity = df[df['指标'] == '进口数量（第一数量）']\n",
    "    import_quantity = import_quantity[['时间', '商品', '数值']].rename(columns={'时间': 'time', '商品': 'code', '数值': 'IM_Q'})\n",
    "    \n",
    "    # 处理出口金额\n",
    "    export_amount = df[df['指标'] == '出口金额（美元）']\n",
    "    export_amount = export_amount[['时间', '商品', '数值']].rename(columns={'时间': 'time', '商品': 'code', '数值': 'EX_PQ'})\n",
    "    \n",
    "    # 处理出口量（仅第一数量）\n",
    "    export_quantity = df[df['指标'] == '出口数量（第一数量）']\n",
    "    export_quantity = export_quantity[['时间', '商品', '数值']].rename(columns={'时间': 'time', '商品': 'code', '数值': 'EX_Q'})\n",
    "    \n",
    "    # 合并数据\n",
    "    new_df = (\n",
    "        import_amount\n",
    "        .merge(export_amount, on=['time', 'code'], how='outer')\n",
    "        .merge(import_quantity, on=['time', 'code'], how='outer')\n",
    "        .merge(export_quantity, on=['time', 'code'], how='outer')\n",
    "    )\n",
    "    \n",
    "    # 填充缺失值为 \"空\"\n",
    "    new_df = new_df.fillna(pd.NA)\n",
    "    new_df.head()\n",
    "    return new_df\n",
    "\n"
   ],
   "id": "86e269812e1fca0e",
   "outputs": [],
   "execution_count": 2
  },
  {
   "metadata": {
    "ExecuteTime": {
     "end_time": "2024-12-06T13:24:35.191016Z",
     "start_time": "2024-12-06T13:24:35.174883Z"
    }
   },
   "cell_type": "code",
   "source": [
    "df = pd.read_csv('./cn.csv', encoding='gbk')[:-2]\n",
    "# df['商品'] = df['商品'].str[:2]\n",
    "sorted_df = sord(df)\n",
    "iv = pd.read_csv('./iv.list.csv')"
   ],
   "id": "f27416fb0e781f4a",
   "outputs": [],
   "execution_count": 3
  },
  {
   "metadata": {
    "ExecuteTime": {
     "end_time": "2024-12-06T13:24:35.195360Z",
     "start_time": "2024-12-06T13:24:35.192755Z"
    }
   },
   "cell_type": "code",
   "source": "sorted_df[\"code\"] = sorted_df[\"code\"].str.strip().apply(lambda x: x.split()[0])",
   "id": "c788d1ffecb8d317",
   "outputs": [],
   "execution_count": 4
  },
  {
   "metadata": {
    "ExecuteTime": {
     "end_time": "2024-12-06T13:24:35.201321Z",
     "start_time": "2024-12-06T13:24:35.196157Z"
    }
   },
   "cell_type": "code",
   "source": [
    "# 防止除以零或 NaN 的情况，计算 IM_P\n",
    "sorted_df[\"IM_P\"] = sorted_df.apply(\n",
    "    lambda row: row[\"IM_PQ\"] / row[\"IM_Q\"] if row[\"IM_Q\"] not in [0, np.nan] else np.nan, axis=1\n",
    ")\n",
    "\n",
    "# 防止除以零或 NaN 的情况，计算 EX_P\n",
    "sorted_df[\"EX_P\"] = sorted_df.apply(\n",
    "    lambda row: row[\"EX_PQ\"] / row[\"IM_Q\"] if row[\"IM_Q\"] not in [0, np.nan] else np.nan, axis=1\n",
    ")\n",
    "\n",
    "# 从 time 列提取年份并创建 year 列\n",
    "sorted_df[\"year\"] = sorted_df[\"time\"].str[-4:].astype(int)\n",
    "# sorted_df = remove2024(sorted_df)"
   ],
   "id": "c4ce1d5bd927177f",
   "outputs": [],
   "execution_count": 5
  },
  {
   "metadata": {
    "ExecuteTime": {
     "end_time": "2024-12-06T13:24:35.211602Z",
     "start_time": "2024-12-06T13:24:35.202216Z"
    }
   },
   "cell_type": "code",
   "source": "sorted_df",
   "id": "ca18f68c02a13be0",
   "outputs": [
    {
     "data": {
      "text/plain": [
       "        time      code      IM_PQ  EX_PQ   IM_Q  EX_Q          IM_P  EX_P  \\\n",
       "0    02-2017  01051110        NaN    NaN    NaN   NaN           NaN   NaN   \n",
       "1    02-2017  01061110        NaN    NaN    NaN   NaN           NaN   NaN   \n",
       "2    02-2017  01061910  1000000.0    NaN   91.0   NaN  10989.010989   NaN   \n",
       "3    02-2017    010511        NaN    NaN    NaN   NaN           NaN   NaN   \n",
       "4    02-2017    010611        NaN    NaN    NaN   NaN           NaN   NaN   \n",
       "..       ...       ...        ...    ...    ...   ...           ...   ...   \n",
       "112  12-2020    010611        NaN    NaN    NaN   NaN           NaN   NaN   \n",
       "113  12-2020    010619   100000.0    NaN  125.0   NaN    800.000000   NaN   \n",
       "114  12-2020      0105        NaN    NaN    NaN   NaN           NaN   NaN   \n",
       "115  12-2020      0106   100000.0    NaN  125.0   NaN    800.000000   NaN   \n",
       "116  12-2020        01   100000.0    NaN  125.0   NaN    800.000000   NaN   \n",
       "\n",
       "     year  \n",
       "0    2017  \n",
       "1    2017  \n",
       "2    2017  \n",
       "3    2017  \n",
       "4    2017  \n",
       "..    ...  \n",
       "112  2020  \n",
       "113  2020  \n",
       "114  2020  \n",
       "115  2020  \n",
       "116  2020  \n",
       "\n",
       "[117 rows x 9 columns]"
      ],
      "text/html": [
       "<div>\n",
       "<style scoped>\n",
       "    .dataframe tbody tr th:only-of-type {\n",
       "        vertical-align: middle;\n",
       "    }\n",
       "\n",
       "    .dataframe tbody tr th {\n",
       "        vertical-align: top;\n",
       "    }\n",
       "\n",
       "    .dataframe thead th {\n",
       "        text-align: right;\n",
       "    }\n",
       "</style>\n",
       "<table border=\"1\" class=\"dataframe\">\n",
       "  <thead>\n",
       "    <tr style=\"text-align: right;\">\n",
       "      <th></th>\n",
       "      <th>time</th>\n",
       "      <th>code</th>\n",
       "      <th>IM_PQ</th>\n",
       "      <th>EX_PQ</th>\n",
       "      <th>IM_Q</th>\n",
       "      <th>EX_Q</th>\n",
       "      <th>IM_P</th>\n",
       "      <th>EX_P</th>\n",
       "      <th>year</th>\n",
       "    </tr>\n",
       "  </thead>\n",
       "  <tbody>\n",
       "    <tr>\n",
       "      <th>0</th>\n",
       "      <td>02-2017</td>\n",
       "      <td>01051110</td>\n",
       "      <td>NaN</td>\n",
       "      <td>NaN</td>\n",
       "      <td>NaN</td>\n",
       "      <td>NaN</td>\n",
       "      <td>NaN</td>\n",
       "      <td>NaN</td>\n",
       "      <td>2017</td>\n",
       "    </tr>\n",
       "    <tr>\n",
       "      <th>1</th>\n",
       "      <td>02-2017</td>\n",
       "      <td>01061110</td>\n",
       "      <td>NaN</td>\n",
       "      <td>NaN</td>\n",
       "      <td>NaN</td>\n",
       "      <td>NaN</td>\n",
       "      <td>NaN</td>\n",
       "      <td>NaN</td>\n",
       "      <td>2017</td>\n",
       "    </tr>\n",
       "    <tr>\n",
       "      <th>2</th>\n",
       "      <td>02-2017</td>\n",
       "      <td>01061910</td>\n",
       "      <td>1000000.0</td>\n",
       "      <td>NaN</td>\n",
       "      <td>91.0</td>\n",
       "      <td>NaN</td>\n",
       "      <td>10989.010989</td>\n",
       "      <td>NaN</td>\n",
       "      <td>2017</td>\n",
       "    </tr>\n",
       "    <tr>\n",
       "      <th>3</th>\n",
       "      <td>02-2017</td>\n",
       "      <td>010511</td>\n",
       "      <td>NaN</td>\n",
       "      <td>NaN</td>\n",
       "      <td>NaN</td>\n",
       "      <td>NaN</td>\n",
       "      <td>NaN</td>\n",
       "      <td>NaN</td>\n",
       "      <td>2017</td>\n",
       "    </tr>\n",
       "    <tr>\n",
       "      <th>4</th>\n",
       "      <td>02-2017</td>\n",
       "      <td>010611</td>\n",
       "      <td>NaN</td>\n",
       "      <td>NaN</td>\n",
       "      <td>NaN</td>\n",
       "      <td>NaN</td>\n",
       "      <td>NaN</td>\n",
       "      <td>NaN</td>\n",
       "      <td>2017</td>\n",
       "    </tr>\n",
       "    <tr>\n",
       "      <th>...</th>\n",
       "      <td>...</td>\n",
       "      <td>...</td>\n",
       "      <td>...</td>\n",
       "      <td>...</td>\n",
       "      <td>...</td>\n",
       "      <td>...</td>\n",
       "      <td>...</td>\n",
       "      <td>...</td>\n",
       "      <td>...</td>\n",
       "    </tr>\n",
       "    <tr>\n",
       "      <th>112</th>\n",
       "      <td>12-2020</td>\n",
       "      <td>010611</td>\n",
       "      <td>NaN</td>\n",
       "      <td>NaN</td>\n",
       "      <td>NaN</td>\n",
       "      <td>NaN</td>\n",
       "      <td>NaN</td>\n",
       "      <td>NaN</td>\n",
       "      <td>2020</td>\n",
       "    </tr>\n",
       "    <tr>\n",
       "      <th>113</th>\n",
       "      <td>12-2020</td>\n",
       "      <td>010619</td>\n",
       "      <td>100000.0</td>\n",
       "      <td>NaN</td>\n",
       "      <td>125.0</td>\n",
       "      <td>NaN</td>\n",
       "      <td>800.000000</td>\n",
       "      <td>NaN</td>\n",
       "      <td>2020</td>\n",
       "    </tr>\n",
       "    <tr>\n",
       "      <th>114</th>\n",
       "      <td>12-2020</td>\n",
       "      <td>0105</td>\n",
       "      <td>NaN</td>\n",
       "      <td>NaN</td>\n",
       "      <td>NaN</td>\n",
       "      <td>NaN</td>\n",
       "      <td>NaN</td>\n",
       "      <td>NaN</td>\n",
       "      <td>2020</td>\n",
       "    </tr>\n",
       "    <tr>\n",
       "      <th>115</th>\n",
       "      <td>12-2020</td>\n",
       "      <td>0106</td>\n",
       "      <td>100000.0</td>\n",
       "      <td>NaN</td>\n",
       "      <td>125.0</td>\n",
       "      <td>NaN</td>\n",
       "      <td>800.000000</td>\n",
       "      <td>NaN</td>\n",
       "      <td>2020</td>\n",
       "    </tr>\n",
       "    <tr>\n",
       "      <th>116</th>\n",
       "      <td>12-2020</td>\n",
       "      <td>01</td>\n",
       "      <td>100000.0</td>\n",
       "      <td>NaN</td>\n",
       "      <td>125.0</td>\n",
       "      <td>NaN</td>\n",
       "      <td>800.000000</td>\n",
       "      <td>NaN</td>\n",
       "      <td>2020</td>\n",
       "    </tr>\n",
       "  </tbody>\n",
       "</table>\n",
       "<p>117 rows × 9 columns</p>\n",
       "</div>"
      ]
     },
     "execution_count": 6,
     "metadata": {},
     "output_type": "execute_result"
    }
   ],
   "execution_count": 6
  },
  {
   "metadata": {
    "ExecuteTime": {
     "end_time": "2024-12-06T13:24:35.216406Z",
     "start_time": "2024-12-06T13:24:35.212369Z"
    }
   },
   "cell_type": "code",
   "source": [
    "sorted_df['year'] = sorted_df['year'].astype(int)\n",
    "iv['year'] = iv['year'].astype(int)\n",
    "df = sorted_df.merge(iv, on='year', how='left')"
   ],
   "id": "32ff893fcce1a754",
   "outputs": [],
   "execution_count": 7
  },
  {
   "metadata": {
    "ExecuteTime": {
     "end_time": "2024-12-06T13:24:35.220962Z",
     "start_time": "2024-12-06T13:24:35.217236Z"
    }
   },
   "cell_type": "code",
   "source": [
    "df[\"lgdp\"] = df[\"gdp\"].apply(np.log)\n",
    "df[\"lpop\"] = df[\"pop\"].apply(np.log)\n",
    "df[\"lfdi\"] = df[\"fdi\"].apply(np.log)\n",
    "df[\"lexp\"] = df['EX_P'].apply(np.log)\n",
    "df[\"limp\"] = df['IM_P'].apply(np.log)\n",
    "df[\"lexq\"] = df['EX_Q'].apply(np.log)\n",
    "df[\"limq\"] = df['IM_Q'].apply(np.log)"
   ],
   "id": "af7e7942a7ce9981",
   "outputs": [],
   "execution_count": 8
  },
  {
   "metadata": {
    "ExecuteTime": {
     "end_time": "2024-12-06T13:25:15.998094Z",
     "start_time": "2024-12-06T13:25:15.993413Z"
    }
   },
   "cell_type": "code",
   "source": "df.to_csv(\"./01.cn.csv\", encoding='utf-8', index=False)\n",
   "id": "a37cee54673c3fe2",
   "outputs": [],
   "execution_count": 10
  },
  {
   "metadata": {},
   "cell_type": "code",
   "outputs": [],
   "execution_count": null,
   "source": "",
   "id": "b3e94e0fc6140988"
  }
 ],
 "metadata": {
  "kernelspec": {
   "display_name": "Python 3",
   "language": "python",
   "name": "python3"
  },
  "language_info": {
   "codemirror_mode": {
    "name": "ipython",
    "version": 2
   },
   "file_extension": ".py",
   "mimetype": "text/x-python",
   "name": "python",
   "nbconvert_exporter": "python",
   "pygments_lexer": "ipython2",
   "version": "2.7.6"
  }
 },
 "nbformat": 4,
 "nbformat_minor": 5
}
